{
 "cells": [
  {
   "cell_type": "markdown",
   "id": "d9d036c6",
   "metadata": {},
   "source": [
    "# Hypothesis testing problems"
   ]
  },
  {
   "cell_type": "markdown",
   "id": "d157c4db",
   "metadata": {},
   "source": [
    "## Exercise 1\n",
    "\n",
    "You are a nutritionist researching two different types of diets to see if there is a significant difference in weight loss after one month. You choose two random groups of people; one group follows the first diet, and the other follows the second. At the end of the month, you record the weight loss (in kg) for each person:\n",
    "\n",
    "| Diet 1 | Diet 2 |\n",
    "|:-------|:-------|\n",
    "| 2.0 | 3.0 |\n",
    "| 2.5 | 3.2 |\n",
    "| 3.0 | 3.1 |\n",
    "| 2.8 | 2.9 |\n",
    "| 2.3 | 2.8 |\n",
    "| 2.7 | 3.0 |\n",
    "| 2.5 | 3.2 |\n",
    "\n",
    "With these data, it seeks to answer the following question: Is there a significant difference in average weight loss between people who followed the first diet and those who followed the second diet?\n",
    "\n",
    "To draw conclusions, follow the points below:\n",
    "\n",
    "- State the hypothesis: null and alternative hypothesis.\n",
    "- Perform the test to test the hypothesis. You can use a Student's t-test.\n",
    "- Analyze the conclusions."
   ]
  },
  {
   "cell_type": "markdown",
   "id": "2d452ec3",
   "metadata": {},
   "source": [
    "Step 1 - Hypothesis Definition \n",
    "\n",
    "1. Null Hypothesis (H0): There is no difference in average weight loss between two diets \n",
    "2. Alternative Hypothesis (H1): There is a difference in average weight loss between two diets "
   ]
  },
  {
   "cell_type": "markdown",
   "id": "51b52294",
   "metadata": {},
   "source": [
    "Step 2 - Significance Level (alpha)\n",
    "\n",
    "alpha = 0.05 "
   ]
  },
  {
   "cell_type": "markdown",
   "metadata": {},
   "source": [
    "Step 3 - Hypothesis testing using student's t-test \n"
   ]
  },
  {
   "cell_type": "code",
   "execution_count": 21,
   "id": "8e0f3cf0",
   "metadata": {},
   "outputs": [
    {
     "name": "stdout",
     "output_type": "stream",
     "text": [
      "t-statistics value: -3.5383407969933938, and the p-value is: 0.004083270191713912\n"
     ]
    }
   ],
   "source": [
    "# TODO\n",
    "# two sample t-test to quantify the difference between arithmetic means of the two samples  \n",
    "import scipy.stats as stats\n",
    "\n",
    "# Two independednt samples  \n",
    "diet1 = [2.0, 2.5, 3.0, 2.8, 2.3, 2.7, 2.5]\n",
    "diet2 = [3.0, 3.2, 3.1, 2.9, 2.8, 3.0, 3.2]\n",
    "\n",
    "# t-test \n",
    "t_value, p_value = stats.ttest_ind(diet1, diet2)\n",
    "\n",
    "print(f\"t-statistics value: {t_value}, and the p-value is: {p_value}\")\n"
   ]
  },
  {
   "cell_type": "markdown",
   "id": "b1a0e503",
   "metadata": {},
   "source": [
    "Step 4 - Conclusion \n",
    "\n",
    "1. Negative t-stastics value indicate the mean of diet1 is lower than diet2 \n",
    "2. p-value lesss than the chosen significance level of 0.05, thus reject the null hypothesis and conclude that there is a statistically signifincant difference betweeen two diets. "
   ]
  },
  {
   "cell_type": "markdown",
   "id": "3cecffb4",
   "metadata": {},
   "source": [
    "Try to code t-statistic"
   ]
  },
  {
   "cell_type": "code",
   "execution_count": 22,
   "id": "4ca02d72",
   "metadata": {},
   "outputs": [
    {
     "name": "stdout",
     "output_type": "stream",
     "text": [
      "t-statistic: -3.5383407969933938\n"
     ]
    }
   ],
   "source": [
    "import numpy as np\n",
    "\n",
    "def t_test(diet1, diet2):\n",
    "    # Sample size\n",
    "    n1, n2 = len(diet1), len(diet2)\n",
    "    \n",
    "    # Sample means\n",
    "    mean1, mean2 = np.mean(diet1), np.mean(diet2)\n",
    "    \n",
    "    # Sample variances\n",
    "    var1, var2 = np.var(diet1, ddof=1), np.var(diet2, ddof=1)  # ddof=1 for sample variance\n",
    "    \n",
    "    # Compute standard error of the difference\n",
    "    std_error_diff = np.sqrt((var1 / n1) + (var2 / n2))\n",
    "    \n",
    "    # Compute t-statistic\n",
    "    t_value = (mean1 - mean2) / std_error_diff\n",
    "    \n",
    "    return t_value\n",
    "\n",
    "diet1 = [2.0, 2.5, 3.0, 2.8, 2.3, 2.7, 2.5]\n",
    "diet2 = [3.0, 3.2, 3.1, 2.9, 2.8, 3.0, 3.2]\n",
    "t_stat = t_test(diet_1, diet_2)\n",
    "print(\"t-statistic:\", t_stat)"
   ]
  },
  {
   "cell_type": "markdown",
   "id": "f432e18e",
   "metadata": {},
   "source": [
    "## ANOVA\n",
    "\n",
    "**ANOVA** (*Analysis of Variance*) is a statistical technique used to compare the measures of two or more groups. The idea behind ANOVA is to decompose the total variability in the data into two components: between-group variability and within-group variability:\n",
    "\n",
    "- **Between-group variability**: This variability refers to the differences between the group means. If this variability is considerably larger than the within-group variability, it could be an indication that at least one of the group means is different.\n",
    "- **Within-group variability**: This variability refers to the dispersion of the data within each group. If all groups have similar variability, then any noticeable difference in group means could be considered significant.\n",
    "\n",
    "Hypotheses in ANOVA typically include:\n",
    "\n",
    "- **Null hypothesis** ($H₀$): The means of all groups are equal.\n",
    "- **Alternative hypothesis** ($H₁$): At least one of the group means is different.\n",
    "\n",
    "If the ANOVA test result is significant (e.g., a p-value less than a threshold such as 0.05), this suggests that at least one group mean is different."
   ]
  },
  {
   "cell_type": "markdown",
   "id": "fc5f3721",
   "metadata": {},
   "source": [
    "## Exercise 2\n",
    "\n",
    "A farmer decides to test three different types of fertilizers to determine if one is superior in terms of corn production. The farmer plants corn on 15 identical plots and uses all three fertilizers (5 plots for each type). At the end of the season, he measures the corn yield (in kg) of each plot, with the following result:\n",
    "\n",
    "| Fertilizer 1 | Fertilizer 2 | Fertilizer 3 |\n",
    "|:-------------|:-------------|:-------------|\n",
    "| 20 | 22 | 24 |\n",
    "| 21 | 21 | 23 |\n",
    "| 20 | 23 | 22 |\n",
    "| 19 | 22 | 23 |\n",
    "| 20 | 21 | 24 |\n",
    "\n",
    "With this data, he seeks to answer the following question: Is there a significant difference in average corn yield between the three types of fertilizers?\n",
    "\n",
    "To help you, follow the points below:\n",
    "\n",
    "- State the hypothesis: null and alternative hypothesis.\n",
    "- Perform the ANOVA test.\n",
    "- Analyze the conclusions.\n",
    "- If one fertilizer is better than another, how can we know it?"
   ]
  },
  {
   "cell_type": "markdown",
   "id": "e8d8c7c7",
   "metadata": {},
   "source": [
    "ANOVA is chosen as statistical test method as there are more than 2 numerical categories   "
   ]
  },
  {
   "cell_type": "markdown",
   "id": "8e6abb37",
   "metadata": {},
   "source": [
    "Step 1 - Hypothesis Definition \n",
    "\n",
    "1. Null Hypothesis (H0): There is no difference in corn yield averages between 3 fertilizers  \n",
    "2. Alternative Hypothesis (H1): Atleast one of the fertilizer corn yield average is different  "
   ]
  },
  {
   "cell_type": "markdown",
   "id": "5bb9187a",
   "metadata": {},
   "source": [
    "Step 2 - Significance Level (alpha)\n",
    "\n",
    "alpha = 0.05 "
   ]
  },
  {
   "cell_type": "code",
   "execution_count": 1,
   "id": "eecad0ca",
   "metadata": {},
   "outputs": [
    {
     "name": "stdout",
     "output_type": "stream",
     "text": [
      "f-value: 20.315789473684188,\n",
      "p-value: 0.00014047824793190472\n"
     ]
    }
   ],
   "source": [
    "# TODO \n",
    "# Step 3 - test \n",
    "import scipy.stats as stats\n",
    "\n",
    "# Data Samples   \n",
    "fertilizer1 = [20, 21, 20, 19, 20]\n",
    "fertilizer2 = [22, 21, 23, 22, 21]\n",
    "fertilizer3 = [24, 23, 22, 23, 24]\n",
    "\n",
    "# ANOVA test\n",
    "f_value, p_value = stats.f_oneway(fertilizer1, fertilizer2, fertilizer3)\n",
    "\n",
    "print(f\"f-value: {f_value},\\np-value: {p_value}\")\n"
   ]
  },
  {
   "cell_type": "markdown",
   "id": "5e7e3d1e",
   "metadata": {},
   "source": [
    "Step 4 - Conclusion \n",
    "\n",
    "p-value lesss than the chosen significance level of 0.05, thus reject the null hypothesis and conclude that there is a statistically signifincant difference in corn yield averages betweeen at least two fertilizers! "
   ]
  },
  {
   "cell_type": "markdown",
   "id": "b654d0cd",
   "metadata": {},
   "source": [
    "Step 5 - Best fertilizer \n",
    "Upon cnfirming significant difference between 3 fertilizers, next step is to find if one fertilizer is better than the other! For this a post-hoc test is required. With equal sample sizes, tukey HSD can be performed with following: \n",
    "1. If one 1st fertilizer is different from 2nd, but there is no significant diffrence between 1 and 3, and also no significant difference between 2 and 3, we can conclude fertilizer1 is the best or worst based on the directio of difference! \n",
    "2. If all fertilizers are significantly different from each other, we comapre means to determine which is best! \n"
   ]
  },
  {
   "cell_type": "code",
   "execution_count": 2,
   "id": "2b27a4df",
   "metadata": {},
   "outputs": [
    {
     "name": "stdout",
     "output_type": "stream",
     "text": [
      "Multiple Comparison of Means - Tukey HSD, FWER=0.05\n",
      "==================================================\n",
      "group1 group2 meandiff p-adj  lower  upper  reject\n",
      "--------------------------------------------------\n",
      "    F1     F2      1.8 0.0099 0.4572 3.1428   True\n",
      "    F1     F3      3.2 0.0001 1.8572 4.5428   True\n",
      "    F2     F3      1.4 0.0409 0.0572 2.7428   True\n",
      "--------------------------------------------------\n"
     ]
    }
   ],
   "source": [
    "import numpy as np\n",
    "from statsmodels.stats.multicomp import pairwise_tukeyhsd\n",
    "\n",
    "data = np.concatenate([fertilizer1, fertilizer2, fertilizer3])\n",
    "labels = [\"F1\"] * 5 + [\"F2\"] * 5 + [\"F3\"] * 5\n",
    "\n",
    "# Tukey test\n",
    "result = pairwise_tukeyhsd(data, labels, alpha = 0.05)\n",
    "print(result)"
   ]
  },
  {
   "cell_type": "markdown",
   "id": "b6f1e031",
   "metadata": {},
   "source": [
    "Step 6 - Conclusion \n",
    "Output result table \"reject\" column shows \"True\", meaning there is a statistically significant difference is oresent between 2 fertilizers! In 'meandiff' column shows the how much each group differ (F1-F2), (F1-F3) and (F2-F3). Even though all fertilizer yield differ significantly from each other, rd fertilizer has the highest average yield, followed by fertilizer2 and fertilizer1. Fertilizer3 would be the best! "
   ]
  }
 ],
 "metadata": {
  "kernelspec": {
   "display_name": "Python 3",
   "language": "python",
   "name": "python3"
  },
  "language_info": {
   "codemirror_mode": {
    "name": "ipython",
    "version": 3
   },
   "file_extension": ".py",
   "mimetype": "text/x-python",
   "name": "python",
   "nbconvert_exporter": "python",
   "pygments_lexer": "ipython3",
   "version": "3.11.4"
  }
 },
 "nbformat": 4,
 "nbformat_minor": 5
}
